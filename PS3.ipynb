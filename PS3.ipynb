{
 "cells": [
  {
   "cell_type": "markdown",
   "id": "09e550c7-3fb1-4382-83fb-96a06be6928d",
   "metadata": {},
   "source": [
    "Question 1\n",
    "Introduction:\n",
    "Special thanks to: https://github.com/justmarkham for sharing the dataset and \n",
    "materials.\n",
    "Occupations\n",
    "Step 1. Import the necessary libraries\n",
    "Step 2. Import the dataset from this address.\n",
    "Step 3. Assign it to a variable called users\n",
    "Step 4. Discover what is the mean age per occupation\n",
    "Step 5. Discover the Male ratio per occupation and sort it from the most to the least\n",
    "Step 6. For each occupation, calculate the minimum and maximum ages\n",
    "Step 7. For each combination of occupation and sex, calculate the mean age\n",
    "Step 8. For each occupation present the percentage of women and men"
   ]
  },
  {
   "cell_type": "code",
   "execution_count": 16,
   "id": "55c236d8-3427-40a2-a3ad-f877ddda859b",
   "metadata": {},
   "outputs": [
    {
     "name": "stdout",
     "output_type": "stream",
     "text": [
      "Requirement already satisfied: pandas in c:\\programdata\\anaconda3\\lib\\site-packages (2.1.4)\n",
      "Requirement already satisfied: numpy in c:\\programdata\\anaconda3\\lib\\site-packages (1.26.4)\n",
      "Requirement already satisfied: python-dateutil>=2.8.2 in c:\\programdata\\anaconda3\\lib\\site-packages (from pandas) (2.8.2)\n",
      "Requirement already satisfied: pytz>=2020.1 in c:\\programdata\\anaconda3\\lib\\site-packages (from pandas) (2023.3.post1)\n",
      "Requirement already satisfied: tzdata>=2022.1 in c:\\programdata\\anaconda3\\lib\\site-packages (from pandas) (2023.3)\n",
      "Requirement already satisfied: six>=1.5 in c:\\programdata\\anaconda3\\lib\\site-packages (from python-dateutil>=2.8.2->pandas) (1.16.0)\n",
      "Note: you may need to restart the kernel to use updated packages.\n"
     ]
    },
    {
     "name": "stderr",
     "output_type": "stream",
     "text": [
      "DEPRECATION: Loading egg at c:\\programdata\\anaconda3\\lib\\site-packages\\vboxapi-1.0-py3.11.egg is deprecated. pip 24.3 will enforce this behaviour change. A possible replacement is to use pip for package installation.. Discussion can be found at https://github.com/pypa/pip/issues/12330\n"
     ]
    }
   ],
   "source": [
    "pip install pandas numpy\n"
   ]
  },
  {
   "cell_type": "code",
   "execution_count": 17,
   "id": "b2a2022e-fc11-4f7c-a51e-17f472422612",
   "metadata": {},
   "outputs": [],
   "source": [
    "import pandas as pd\n",
    "import numpy as np\n"
   ]
  },
  {
   "cell_type": "code",
   "execution_count": 20,
   "id": "f824ec2e-9c1b-4f0d-ae81-915f4791fb4e",
   "metadata": {},
   "outputs": [
    {
     "name": "stdout",
     "output_type": "stream",
     "text": [
      "     user_id  age gender     occupation zip_code\n",
      "0          1   24      M     technician    85711\n",
      "1          2   53      F          other    94043\n",
      "2          3   23      M         writer    32067\n",
      "3          4   24      M     technician    43537\n",
      "4          5   33      F          other    15213\n",
      "..       ...  ...    ...            ...      ...\n",
      "938      939   26      F        student    33319\n",
      "939      940   32      M  administrator    02215\n",
      "940      941   20      M        student    97229\n",
      "941      942   48      F      librarian    78209\n",
      "942      943   22      M        student    77841\n",
      "\n",
      "[943 rows x 5 columns]\n"
     ]
    }
   ],
   "source": [
    "# Step 2: Import the dataset\n",
    "url = 'https://raw.githubusercontent.com/justmarkham/DAT8/master/data/u.user'  \n",
    "users = pd.read_csv(url, delimiter='|') \n",
    "print(users)"
   ]
  },
  {
   "cell_type": "code",
   "execution_count": 24,
   "id": "8d875d99-9ae3-4d2c-9c45-b4b92b19c2d7",
   "metadata": {},
   "outputs": [],
   "source": [
    "# Step 3a: Verify the correct column name for gender/sex\n",
    "if 'sex' in users.columns:\n",
    "    gender_col = 'sex'\n",
    "elif 'gender' in users.columns:\n",
    "    gender_col = 'gender'\n",
    "else:\n",
    "    raise KeyError(\"The dataset does not contain a 'sex' or 'gender' column.\")"
   ]
  },
  {
   "cell_type": "code",
   "execution_count": 21,
   "id": "2ab79119-e71b-4a63-a0ca-d43ccf7321d2",
   "metadata": {},
   "outputs": [
    {
     "name": "stdout",
     "output_type": "stream",
     "text": [
      "\n",
      "Mean age per occupation:\n",
      " occupation\n",
      "administrator    38.746835\n",
      "artist           31.392857\n",
      "doctor           43.571429\n",
      "educator         42.010526\n",
      "engineer         36.388060\n",
      "entertainment    29.222222\n",
      "executive        38.718750\n",
      "healthcare       41.562500\n",
      "homemaker        32.571429\n",
      "lawyer           36.750000\n",
      "librarian        40.000000\n",
      "marketing        37.615385\n",
      "none             26.555556\n",
      "other            34.523810\n",
      "programmer       33.121212\n",
      "retired          63.071429\n",
      "salesman         35.666667\n",
      "scientist        35.548387\n",
      "student          22.081633\n",
      "technician       33.148148\n",
      "writer           36.311111\n",
      "Name: age, dtype: float64\n"
     ]
    }
   ],
   "source": [
    "# Step 4: Discover the mean age per occupation\n",
    "mean_age_per_occupation = users.groupby('occupation')['age'].mean()\n",
    "print(\"\\nMean age per occupation:\\n\", mean_age_per_occupation)\n"
   ]
  },
  {
   "cell_type": "code",
   "execution_count": 25,
   "id": "24bf0145-22cb-4721-b23e-934a8d61c4ab",
   "metadata": {},
   "outputs": [
    {
     "name": "stdout",
     "output_type": "stream",
     "text": [
      "\n",
      "Male ratio per occupation (sorted):\n",
      " occupation\n",
      "doctor           1.000000\n",
      "engineer         0.970149\n",
      "technician       0.962963\n",
      "retired          0.928571\n",
      "programmer       0.909091\n",
      "executive        0.906250\n",
      "scientist        0.903226\n",
      "entertainment    0.888889\n",
      "lawyer           0.833333\n",
      "salesman         0.750000\n",
      "educator         0.726316\n",
      "student          0.693878\n",
      "other            0.657143\n",
      "marketing        0.615385\n",
      "writer           0.577778\n",
      "none             0.555556\n",
      "administrator    0.544304\n",
      "artist           0.535714\n",
      "librarian        0.431373\n",
      "healthcare       0.312500\n",
      "homemaker        0.142857\n",
      "dtype: float64\n"
     ]
    }
   ],
   "source": [
    "# Step 5: Discover the Male ratio per occupation and sort it from most to least\n",
    "male_ratio_per_occupation = users[users[gender_col] == 'M'].groupby('occupation').size() / users.groupby('occupation').size()\n",
    "male_ratio_per_occupation = male_ratio_per_occupation.sort_values(ascending=False)\n",
    "print(\"\\nMale ratio per occupation (sorted):\\n\", male_ratio_per_occupation)"
   ]
  },
  {
   "cell_type": "code",
   "execution_count": 27,
   "id": "3f4e08e6-dabd-4372-a072-670d8595aee8",
   "metadata": {},
   "outputs": [
    {
     "name": "stdout",
     "output_type": "stream",
     "text": [
      "\n",
      "Minimum and maximum ages per occupation:\n",
      "                min  max\n",
      "occupation             \n",
      "administrator   21   70\n",
      "artist          19   48\n",
      "doctor          28   64\n",
      "educator        23   63\n",
      "engineer        22   70\n",
      "entertainment   15   50\n",
      "executive       22   69\n",
      "healthcare      22   62\n",
      "homemaker       20   50\n",
      "lawyer          21   53\n",
      "librarian       23   69\n",
      "marketing       24   55\n",
      "none            11   55\n",
      "other           13   64\n",
      "programmer      20   63\n",
      "retired         51   73\n",
      "salesman        18   66\n",
      "scientist       23   55\n",
      "student          7   42\n",
      "technician      21   55\n",
      "writer          18   60\n"
     ]
    }
   ],
   "source": [
    "# Step 6: For each occupation, calculate the minimum and maximum ages\n",
    "min_max_age_per_occupation = users.groupby('occupation')['age'].agg(['min', 'max'])\n",
    "print(\"\\nMinimum and maximum ages per occupation:\\n\", min_max_age_per_occupation)"
   ]
  },
  {
   "cell_type": "code",
   "execution_count": 28,
   "id": "fe57f6a3-9964-48de-8966-7d58d2841989",
   "metadata": {},
   "outputs": [
    {
     "name": "stdout",
     "output_type": "stream",
     "text": [
      "\n",
      "Mean age per occupation and gender:\n",
      " occupation     gender\n",
      "administrator  F         40.638889\n",
      "               M         37.162791\n",
      "artist         F         30.307692\n",
      "               M         32.333333\n",
      "doctor         M         43.571429\n",
      "educator       F         39.115385\n",
      "               M         43.101449\n",
      "engineer       F         29.500000\n",
      "               M         36.600000\n",
      "entertainment  F         31.000000\n",
      "               M         29.000000\n",
      "executive      F         44.000000\n",
      "               M         38.172414\n",
      "healthcare     F         39.818182\n",
      "               M         45.400000\n",
      "homemaker      F         34.166667\n",
      "               M         23.000000\n",
      "lawyer         F         39.500000\n",
      "               M         36.200000\n",
      "librarian      F         40.000000\n",
      "               M         40.000000\n",
      "marketing      F         37.200000\n",
      "               M         37.875000\n",
      "none           F         36.500000\n",
      "               M         18.600000\n",
      "other          F         35.472222\n",
      "               M         34.028986\n",
      "programmer     F         32.166667\n",
      "               M         33.216667\n",
      "retired        F         70.000000\n",
      "               M         62.538462\n",
      "salesman       F         27.000000\n",
      "               M         38.555556\n",
      "scientist      F         28.333333\n",
      "               M         36.321429\n",
      "student        F         20.750000\n",
      "               M         22.669118\n",
      "technician     F         38.000000\n",
      "               M         32.961538\n",
      "writer         F         37.631579\n",
      "               M         35.346154\n",
      "Name: age, dtype: float64\n"
     ]
    }
   ],
   "source": [
    "# Step 7: For each combination of occupation and gender, calculate the mean age\n",
    "mean_age_per_occupation_gender = users.groupby(['occupation', gender_col])['age'].mean()\n",
    "print(\"\\nMean age per occupation and gender:\\n\", mean_age_per_occupation_gender)\n"
   ]
  },
  {
   "cell_type": "code",
   "execution_count": 29,
   "id": "473297b0-810e-41be-ab07-b075c6e41829",
   "metadata": {},
   "outputs": [
    {
     "name": "stdout",
     "output_type": "stream",
     "text": [
      "\n",
      "Percentage of women and men per occupation:\n",
      " gender                 F           M\n",
      "occupation                          \n",
      "administrator  45.569620   54.430380\n",
      "artist         46.428571   53.571429\n",
      "doctor          0.000000  100.000000\n",
      "educator       27.368421   72.631579\n",
      "engineer        2.985075   97.014925\n",
      "entertainment  11.111111   88.888889\n",
      "executive       9.375000   90.625000\n",
      "healthcare     68.750000   31.250000\n",
      "homemaker      85.714286   14.285714\n",
      "lawyer         16.666667   83.333333\n",
      "librarian      56.862745   43.137255\n",
      "marketing      38.461538   61.538462\n",
      "none           44.444444   55.555556\n",
      "other          34.285714   65.714286\n",
      "programmer      9.090909   90.909091\n",
      "retired         7.142857   92.857143\n",
      "salesman       25.000000   75.000000\n",
      "scientist       9.677419   90.322581\n",
      "student        30.612245   69.387755\n",
      "technician      3.703704   96.296296\n",
      "writer         42.222222   57.777778\n"
     ]
    }
   ],
   "source": [
    "# Step 8: For each occupation present the percentage of women and men\n",
    "gender_counts_per_occupation = users.groupby(['occupation', gender_col]).size().unstack().fillna(0)\n",
    "gender_percentage_per_occupation = gender_counts_per_occupation.div(gender_counts_per_occupation.sum(axis=1), axis=0) * 100\n",
    "print(\"\\nPercentage of women and men per occupation:\\n\", gender_percentage_per_occupation)"
   ]
  },
  {
   "cell_type": "markdown",
   "id": "8f9dc85b-ae47-4d25-821a-ac13fb8c39dd",
   "metadata": {},
   "source": [
    "Question 2\n",
    "Euro Teams\n",
    "Step 1. Import the necessary libraries\n",
    "Step 2. Import the dataset from this address\n",
    "Step 3. Assign it to a variable called euro12\n",
    "Step 4. Select only the Goal column\n",
    "Step 5. How many team participated in the Euro2012?\n",
    "Step 6. What is the number of columns in the dataset?\n",
    "Step 7. View only the columns Team, Yellow Cards and Red Cards and assign them \n",
    "to a dataframe called discipline\n",
    "Step 8. Sort the teams by Red Cards, then to Yellow Cards\n",
    "Step 9. Calculate the mean Yellow Cards given per Team\n",
    "Step 10. Filter teams that scored more than 6 goalsStep 11. Select the teams that start \n",
    "with G\n",
    "Step 12. Select the first 7 columns\n",
    "Step 13. Select all columns except the last 3\n",
    "Step 14. Present only the Shooting Accuracy from England, Italy and Russia\n"
   ]
  },
  {
   "cell_type": "code",
   "execution_count": 30,
   "id": "322db678-6ccb-43ae-9aed-6b41652057cf",
   "metadata": {},
   "outputs": [],
   "source": [
    "import pandas as pd\n"
   ]
  },
  {
   "cell_type": "code",
   "execution_count": 38,
   "id": "3ca7648d-61d3-4cc8-912a-30452f2bf599",
   "metadata": {},
   "outputs": [
    {
     "name": "stdout",
     "output_type": "stream",
     "text": [
      "Dataset loaded successfully.\n",
      "             Team  Goals  Shots on target  Shots off target Shooting Accuracy  \\\n",
      "0         Croatia      4               13                12             51.9%   \n",
      "1  Czech Republic      4               13                18             41.9%   \n",
      "2         Denmark      4               10                10             50.0%   \n",
      "3         England      5               11                18             50.0%   \n",
      "4          France      3               22                24             37.9%   \n",
      "\n",
      "  % Goals-to-shots  Total shots (inc. Blocked)  Hit Woodwork  Penalty goals  \\\n",
      "0            16.0%                          32             0              0   \n",
      "1            12.9%                          39             0              0   \n",
      "2            20.0%                          27             1              0   \n",
      "3            17.2%                          40             0              0   \n",
      "4             6.5%                          65             1              0   \n",
      "\n",
      "   Penalties not scored  ...  Saves made  Saves-to-shots ratio  Fouls Won  \\\n",
      "0                     0  ...          13                 81.3%         41   \n",
      "1                     0  ...           9                 60.1%         53   \n",
      "2                     0  ...          10                 66.7%         25   \n",
      "3                     0  ...          22                 88.1%         43   \n",
      "4                     0  ...           6                 54.6%         36   \n",
      "\n",
      "  Fouls Conceded  Offsides  Yellow Cards  Red Cards  Subs on  Subs off  \\\n",
      "0             62         2             9          0        9         9   \n",
      "1             73         8             7          0       11        11   \n",
      "2             38         8             4          0        7         7   \n",
      "3             45         6             5          0       11        11   \n",
      "4             51         5             6          0       11        11   \n",
      "\n",
      "   Players Used  \n",
      "0            16  \n",
      "1            19  \n",
      "2            15  \n",
      "3            16  \n",
      "4            19  \n",
      "\n",
      "[5 rows x 35 columns]\n"
     ]
    }
   ],
   "source": [
    "\n",
    "url = 'https://raw.githubusercontent.com/guipsamora/pandas_exercises/master/02_Filtering_%26_Sorting/Euro12/Euro_2012_stats_TEAM.csv'\n",
    "\n",
    "try:\n",
    "    \n",
    "    euro12 = pd.read_csv(url)\n",
    "    print(\"Dataset loaded successfully.\")\n",
    "    print(euro12.head())  \n",
    "except pd.errors.EmptyDataError:\n",
    "    print(\"Error: The file is empty or not in a valid CSV format.\")\n",
    "except pd.errors.ParserError:\n",
    "    print(\"Error: There was an issue parsing the file.\")\n",
    "except Exception as e:\n",
    "    print(f\"An error occurred: {e}\")"
   ]
  },
  {
   "cell_type": "code",
   "execution_count": 39,
   "id": "5ba971f8-4c77-4dce-bb43-a3e7082749b2",
   "metadata": {},
   "outputs": [
    {
     "name": "stdout",
     "output_type": "stream",
     "text": [
      "\n",
      "Step 3: Dataset preview:\n",
      "              Team  Goals  Shots on target  Shots off target Shooting Accuracy  \\\n",
      "0         Croatia      4               13                12             51.9%   \n",
      "1  Czech Republic      4               13                18             41.9%   \n",
      "2         Denmark      4               10                10             50.0%   \n",
      "3         England      5               11                18             50.0%   \n",
      "4          France      3               22                24             37.9%   \n",
      "\n",
      "  % Goals-to-shots  Total shots (inc. Blocked)  Hit Woodwork  Penalty goals  \\\n",
      "0            16.0%                          32             0              0   \n",
      "1            12.9%                          39             0              0   \n",
      "2            20.0%                          27             1              0   \n",
      "3            17.2%                          40             0              0   \n",
      "4             6.5%                          65             1              0   \n",
      "\n",
      "   Penalties not scored  ...  Saves made  Saves-to-shots ratio  Fouls Won  \\\n",
      "0                     0  ...          13                 81.3%         41   \n",
      "1                     0  ...           9                 60.1%         53   \n",
      "2                     0  ...          10                 66.7%         25   \n",
      "3                     0  ...          22                 88.1%         43   \n",
      "4                     0  ...           6                 54.6%         36   \n",
      "\n",
      "  Fouls Conceded  Offsides  Yellow Cards  Red Cards  Subs on  Subs off  \\\n",
      "0             62         2             9          0        9         9   \n",
      "1             73         8             7          0       11        11   \n",
      "2             38         8             4          0        7         7   \n",
      "3             45         6             5          0       11        11   \n",
      "4             51         5             6          0       11        11   \n",
      "\n",
      "   Players Used  \n",
      "0            16  \n",
      "1            19  \n",
      "2            15  \n",
      "3            16  \n",
      "4            19  \n",
      "\n",
      "[5 rows x 35 columns]\n"
     ]
    }
   ],
   "source": [
    "# Step 3: Print the first few rows of the dataset\n",
    "print(\"\\nStep 3: Dataset preview:\\n\", euro12.head())"
   ]
  },
  {
   "cell_type": "code",
   "execution_count": 40,
   "id": "616b11ce-8c0e-41c5-a394-df5331efa9d7",
   "metadata": {},
   "outputs": [
    {
     "name": "stdout",
     "output_type": "stream",
     "text": [
      "\n",
      "Step 4: Goals column:\n",
      " 0      4\n",
      "1      4\n",
      "2      4\n",
      "3      5\n",
      "4      3\n",
      "5     10\n",
      "6      5\n",
      "7      6\n",
      "8      2\n",
      "9      2\n",
      "10     6\n",
      "11     1\n",
      "12     5\n",
      "13    12\n",
      "14     5\n",
      "15     2\n",
      "Name: Goals, dtype: int64\n"
     ]
    }
   ],
   "source": [
    "# Step 4: Select only the Goal column\n",
    "goals = euro12['Goals']\n",
    "print(\"\\nStep 4: Goals column:\\n\", goals)"
   ]
  },
  {
   "cell_type": "code",
   "execution_count": 41,
   "id": "30322b00-a049-41a8-8449-a40344937a60",
   "metadata": {},
   "outputs": [
    {
     "name": "stdout",
     "output_type": "stream",
     "text": [
      "\n",
      "Step 5: Number of teams that participated in Euro 2012: 16\n"
     ]
    }
   ],
   "source": [
    "# Step 5: How many teams participated in Euro 2012?\n",
    "num_teams = len(euro12)\n",
    "print(\"\\nStep 5: Number of teams that participated in Euro 2012:\", num_teams)"
   ]
  },
  {
   "cell_type": "code",
   "execution_count": 42,
   "id": "e4dc333f-d7b3-4728-bb3c-6b17a8fb3351",
   "metadata": {},
   "outputs": [
    {
     "name": "stdout",
     "output_type": "stream",
     "text": [
      "\n",
      "Step 6: Number of columns in the dataset: 35\n"
     ]
    }
   ],
   "source": [
    "# Step 6: What is the number of columns in the dataset?\n",
    "num_columns = len(euro12.columns)\n",
    "print(\"\\nStep 6: Number of columns in the dataset:\", num_columns)"
   ]
  },
  {
   "cell_type": "code",
   "execution_count": 43,
   "id": "b895e9ee-55a7-4fdf-a018-81c2e7e7bba6",
   "metadata": {},
   "outputs": [
    {
     "name": "stdout",
     "output_type": "stream",
     "text": [
      "\n",
      "Step 7: Discipline dataframe:\n",
      "                    Team  Yellow Cards  Red Cards\n",
      "0               Croatia             9          0\n",
      "1        Czech Republic             7          0\n",
      "2               Denmark             4          0\n",
      "3               England             5          0\n",
      "4                France             6          0\n",
      "5               Germany             4          0\n",
      "6                Greece             9          1\n",
      "7                 Italy            16          0\n",
      "8           Netherlands             5          0\n",
      "9                Poland             7          1\n",
      "10             Portugal            12          0\n",
      "11  Republic of Ireland             6          1\n",
      "12               Russia             6          0\n",
      "13                Spain            11          0\n",
      "14               Sweden             7          0\n",
      "15              Ukraine             5          0\n"
     ]
    }
   ],
   "source": [
    "# Step 7: View only the columns Team, Yellow Cards, and Red Cards and assign them to a dataframe called discipline\n",
    "discipline = euro12[['Team', 'Yellow Cards', 'Red Cards']]\n",
    "print(\"\\nStep 7: Discipline dataframe:\\n\", discipline)"
   ]
  },
  {
   "cell_type": "code",
   "execution_count": 44,
   "id": "f8028efc-04a4-438a-943a-c375f2a6d1c7",
   "metadata": {},
   "outputs": [
    {
     "name": "stdout",
     "output_type": "stream",
     "text": [
      "\n",
      "Step 8: Sorted teams by Red Cards and Yellow Cards:\n",
      "                    Team  Yellow Cards  Red Cards\n",
      "6                Greece             9          1\n",
      "9                Poland             7          1\n",
      "11  Republic of Ireland             6          1\n",
      "7                 Italy            16          0\n",
      "10             Portugal            12          0\n",
      "13                Spain            11          0\n",
      "0               Croatia             9          0\n",
      "1        Czech Republic             7          0\n",
      "14               Sweden             7          0\n",
      "4                France             6          0\n",
      "12               Russia             6          0\n",
      "3               England             5          0\n",
      "8           Netherlands             5          0\n",
      "15              Ukraine             5          0\n",
      "2               Denmark             4          0\n",
      "5               Germany             4          0\n"
     ]
    }
   ],
   "source": [
    "# Step 8: Sort the teams by Red Cards, then by Yellow Cards\n",
    "sorted_discipline = discipline.sort_values(by=['Red Cards', 'Yellow Cards'], ascending=[False, False])\n",
    "print(\"\\nStep 8: Sorted teams by Red Cards and Yellow Cards:\\n\", sorted_discipline)"
   ]
  },
  {
   "cell_type": "code",
   "execution_count": 45,
   "id": "68fa5ce7-c766-40cd-8bab-43195daf3992",
   "metadata": {},
   "outputs": [
    {
     "name": "stdout",
     "output_type": "stream",
     "text": [
      "\n",
      "Step 9: Mean Yellow Cards given per team: 7.4375\n"
     ]
    }
   ],
   "source": [
    "# Step 9: Calculate the mean Yellow Cards given per team\n",
    "mean_yellow_cards = discipline['Yellow Cards'].mean()\n",
    "print(\"\\nStep 9: Mean Yellow Cards given per team:\", mean_yellow_cards)"
   ]
  },
  {
   "cell_type": "code",
   "execution_count": 46,
   "id": "64919c85-1e1d-402d-8434-2d3268cb118b",
   "metadata": {},
   "outputs": [
    {
     "name": "stdout",
     "output_type": "stream",
     "text": [
      "\n",
      "Step 10: Teams that scored more than 6 goals:\n",
      "        Team  Goals\n",
      "5   Germany     10\n",
      "13    Spain     12\n"
     ]
    }
   ],
   "source": [
    "# Step 10: Filter teams that scored more than 6 goals\n",
    "teams_more_than_6_goals = euro12[euro12['Goals'] > 6]\n",
    "print(\"\\nStep 10: Teams that scored more than 6 goals:\\n\", teams_more_than_6_goals[['Team', 'Goals']])\n"
   ]
  },
  {
   "cell_type": "code",
   "execution_count": 47,
   "id": "496b091f-6869-4158-9b80-5004fe26ddc1",
   "metadata": {},
   "outputs": [
    {
     "name": "stdout",
     "output_type": "stream",
     "text": [
      "\n",
      "Step 11: Teams that start with G:\n",
      "       Team\n",
      "5  Germany\n",
      "6   Greece\n"
     ]
    }
   ],
   "source": [
    "# Step 11: Select the teams that start with G\n",
    "teams_start_with_G = euro12[euro12['Team'].str.startswith('G')]\n",
    "print(\"\\nStep 11: Teams that start with G:\\n\", teams_start_with_G[['Team']])"
   ]
  },
  {
   "cell_type": "code",
   "execution_count": 48,
   "id": "a3f5762c-c59a-4769-b536-f247fef8c962",
   "metadata": {},
   "outputs": [
    {
     "name": "stdout",
     "output_type": "stream",
     "text": [
      "\n",
      "Step 12: First 7 columns:\n",
      "                    Team  Goals  Shots on target  Shots off target  \\\n",
      "0               Croatia      4               13                12   \n",
      "1        Czech Republic      4               13                18   \n",
      "2               Denmark      4               10                10   \n",
      "3               England      5               11                18   \n",
      "4                France      3               22                24   \n",
      "5               Germany     10               32                32   \n",
      "6                Greece      5                8                18   \n",
      "7                 Italy      6               34                45   \n",
      "8           Netherlands      2               12                36   \n",
      "9                Poland      2               15                23   \n",
      "10             Portugal      6               22                42   \n",
      "11  Republic of Ireland      1                7                12   \n",
      "12               Russia      5                9                31   \n",
      "13                Spain     12               42                33   \n",
      "14               Sweden      5               17                19   \n",
      "15              Ukraine      2                7                26   \n",
      "\n",
      "   Shooting Accuracy % Goals-to-shots  Total shots (inc. Blocked)  \n",
      "0              51.9%            16.0%                          32  \n",
      "1              41.9%            12.9%                          39  \n",
      "2              50.0%            20.0%                          27  \n",
      "3              50.0%            17.2%                          40  \n",
      "4              37.9%             6.5%                          65  \n",
      "5              47.8%            15.6%                          80  \n",
      "6              30.7%            19.2%                          32  \n",
      "7              43.0%             7.5%                         110  \n",
      "8              25.0%             4.1%                          60  \n",
      "9              39.4%             5.2%                          48  \n",
      "10             34.3%             9.3%                          82  \n",
      "11             36.8%             5.2%                          28  \n",
      "12             22.5%            12.5%                          59  \n",
      "13             55.9%            16.0%                         100  \n",
      "14             47.2%            13.8%                          39  \n",
      "15             21.2%             6.0%                          38  \n"
     ]
    }
   ],
   "source": [
    "# Step 12: Select the first 7 columns\n",
    "first_7_columns = euro12.iloc[:, :7]\n",
    "print(\"\\nStep 12: First 7 columns:\\n\", first_7_columns)\n"
   ]
  },
  {
   "cell_type": "code",
   "execution_count": 49,
   "id": "90405127-c74b-4ef1-a982-2963aa41d95d",
   "metadata": {},
   "outputs": [
    {
     "name": "stdout",
     "output_type": "stream",
     "text": [
      "\n",
      "Step 13: All columns except the last 3:\n",
      "                    Team  Goals  Shots on target  Shots off target  \\\n",
      "0               Croatia      4               13                12   \n",
      "1        Czech Republic      4               13                18   \n",
      "2               Denmark      4               10                10   \n",
      "3               England      5               11                18   \n",
      "4                France      3               22                24   \n",
      "5               Germany     10               32                32   \n",
      "6                Greece      5                8                18   \n",
      "7                 Italy      6               34                45   \n",
      "8           Netherlands      2               12                36   \n",
      "9                Poland      2               15                23   \n",
      "10             Portugal      6               22                42   \n",
      "11  Republic of Ireland      1                7                12   \n",
      "12               Russia      5                9                31   \n",
      "13                Spain     12               42                33   \n",
      "14               Sweden      5               17                19   \n",
      "15              Ukraine      2                7                26   \n",
      "\n",
      "   Shooting Accuracy % Goals-to-shots  Total shots (inc. Blocked)  \\\n",
      "0              51.9%            16.0%                          32   \n",
      "1              41.9%            12.9%                          39   \n",
      "2              50.0%            20.0%                          27   \n",
      "3              50.0%            17.2%                          40   \n",
      "4              37.9%             6.5%                          65   \n",
      "5              47.8%            15.6%                          80   \n",
      "6              30.7%            19.2%                          32   \n",
      "7              43.0%             7.5%                         110   \n",
      "8              25.0%             4.1%                          60   \n",
      "9              39.4%             5.2%                          48   \n",
      "10             34.3%             9.3%                          82   \n",
      "11             36.8%             5.2%                          28   \n",
      "12             22.5%            12.5%                          59   \n",
      "13             55.9%            16.0%                         100   \n",
      "14             47.2%            13.8%                          39   \n",
      "15             21.2%             6.0%                          38   \n",
      "\n",
      "    Hit Woodwork  Penalty goals  Penalties not scored  ...  Clean Sheets  \\\n",
      "0              0              0                     0  ...             0   \n",
      "1              0              0                     0  ...             1   \n",
      "2              1              0                     0  ...             1   \n",
      "3              0              0                     0  ...             2   \n",
      "4              1              0                     0  ...             1   \n",
      "5              2              1                     0  ...             1   \n",
      "6              1              1                     1  ...             1   \n",
      "7              2              0                     0  ...             2   \n",
      "8              2              0                     0  ...             0   \n",
      "9              0              0                     0  ...             0   \n",
      "10             6              0                     0  ...             2   \n",
      "11             0              0                     0  ...             0   \n",
      "12             2              0                     0  ...             0   \n",
      "13             0              1                     0  ...             5   \n",
      "14             3              0                     0  ...             1   \n",
      "15             0              0                     0  ...             0   \n",
      "\n",
      "    Blocks  Goals conceded Saves made  Saves-to-shots ratio  Fouls Won  \\\n",
      "0       10               3         13                 81.3%         41   \n",
      "1       10               6          9                 60.1%         53   \n",
      "2       10               5         10                 66.7%         25   \n",
      "3       29               3         22                 88.1%         43   \n",
      "4        7               5          6                 54.6%         36   \n",
      "5       11               6         10                 62.6%         63   \n",
      "6       23               7         13                 65.1%         67   \n",
      "7       18               7         20                 74.1%        101   \n",
      "8        9               5         12                 70.6%         35   \n",
      "9        8               3          6                 66.7%         48   \n",
      "10      11               4         10                 71.5%         73   \n",
      "11      23               9         17                 65.4%         43   \n",
      "12       8               3         10                 77.0%         34   \n",
      "13       8               1         15                 93.8%        102   \n",
      "14      12               5          8                 61.6%         35   \n",
      "15       4               4         13                 76.5%         48   \n",
      "\n",
      "    Fouls Conceded  Offsides  Yellow Cards  Red Cards  \n",
      "0               62         2             9          0  \n",
      "1               73         8             7          0  \n",
      "2               38         8             4          0  \n",
      "3               45         6             5          0  \n",
      "4               51         5             6          0  \n",
      "5               49        12             4          0  \n",
      "6               48        12             9          1  \n",
      "7               89        16            16          0  \n",
      "8               30         3             5          0  \n",
      "9               56         3             7          1  \n",
      "10              90        10            12          0  \n",
      "11              51        11             6          1  \n",
      "12              43         4             6          0  \n",
      "13              83        19            11          0  \n",
      "14              51         7             7          0  \n",
      "15              31         4             5          0  \n",
      "\n",
      "[16 rows x 32 columns]\n"
     ]
    }
   ],
   "source": [
    "# Step 13: Select all columns except the last 3\n",
    "all_but_last_3 = euro12.iloc[:, :-3]\n",
    "print(\"\\nStep 13: All columns except the last 3:\\n\", all_but_last_3)\n"
   ]
  },
  {
   "cell_type": "code",
   "execution_count": 50,
   "id": "0df1edf6-fa95-4a08-8286-f9db9a3a015a",
   "metadata": {},
   "outputs": [
    {
     "name": "stdout",
     "output_type": "stream",
     "text": [
      "\n",
      "Step 14: Shooting Accuracy from England, Italy, and Russia:\n",
      "        Team Shooting Accuracy\n",
      "3   England             50.0%\n",
      "7     Italy             43.0%\n",
      "12   Russia             22.5%\n"
     ]
    }
   ],
   "source": [
    "# Step 14: Present only the Shooting Accuracy from England, Italy, and Russia\n",
    "shooting_accuracy = euro12[euro12['Team'].isin(['England', 'Italy', 'Russia'])][['Team', 'Shooting Accuracy']]\n",
    "print(\"\\nStep 14: Shooting Accuracy from England, Italy, and Russia:\\n\", shooting_accuracy)"
   ]
  },
  {
   "cell_type": "markdown",
   "id": "2d3e8e42-0967-448e-ba90-d6bf99649f01",
   "metadata": {},
   "source": [
    "Question 3\n",
    "Housing\n",
    "Step 1. Import the necessary libraries\n",
    "Step 2. Create 3 differents Series, each of length 100, as follows:\n",
    "• The first a random number from 1 to 4\n",
    "• The second a random number from 1 to 3\n",
    "• The third a random number from 10,000 to 30,000\n",
    "Step 3. Create a DataFrame by joinning the Series by column\n",
    "Step 4. Change the name of the columns to bedrs, bathrs, price_sqr_meter\n",
    "Step 5. Create a one column DataFrame with the values of the 3 Series and assign it \n",
    "to 'bigcolumn'\n",
    "Step 6. Ops it seems it is going only until index 99. Is it true?\n",
    "Step 7. Reindex the DataFrame so it goes from 0 to 299"
   ]
  },
  {
   "cell_type": "code",
   "execution_count": 51,
   "id": "d18d07fe-60ee-4439-b88d-53e3da992bb2",
   "metadata": {},
   "outputs": [],
   "source": [
    "# Step 1: Import the necessary libraries\n",
    "import pandas as pd\n",
    "import numpy as np"
   ]
  },
  {
   "cell_type": "code",
   "execution_count": 52,
   "id": "abfcc9a6-630a-4fff-8e21-d946c70fe030",
   "metadata": {},
   "outputs": [
    {
     "name": "stdout",
     "output_type": "stream",
     "text": [
      "\n",
      "Step 2a: Series 1:\n",
      " 0    1\n",
      "1    3\n",
      "2    1\n",
      "3    3\n",
      "4    4\n",
      "dtype: int32\n"
     ]
    }
   ],
   "source": [
    "# Step 2: Create 3 different Series, each of length 100\n",
    "# First Series: Random numbers from 1 to 4\n",
    "series1 = pd.Series(np.random.randint(1, 5, size=100))\n",
    "print(\"\\nStep 2a: Series 1:\\n\", series1.head())"
   ]
  },
  {
   "cell_type": "code",
   "execution_count": 53,
   "id": "b0ec0176-60d6-4772-b63e-78dc91f2ac5b",
   "metadata": {},
   "outputs": [
    {
     "name": "stdout",
     "output_type": "stream",
     "text": [
      "\n",
      "Step 2b: Series 2:\n",
      " 0    3\n",
      "1    1\n",
      "2    1\n",
      "3    2\n",
      "4    2\n",
      "dtype: int32\n"
     ]
    }
   ],
   "source": [
    "# Second Series: Random numbers from 1 to 3\n",
    "series2 = pd.Series(np.random.randint(1, 4, size=100))\n",
    "print(\"\\nStep 2b: Series 2:\\n\", series2.head())"
   ]
  },
  {
   "cell_type": "code",
   "execution_count": 54,
   "id": "7bc6ba72-6c88-4257-a7a6-d0ec18d4c83c",
   "metadata": {},
   "outputs": [
    {
     "name": "stdout",
     "output_type": "stream",
     "text": [
      "\n",
      "Step 2c: Series 3:\n",
      " 0    28831\n",
      "1    15846\n",
      "2    17377\n",
      "3    10338\n",
      "4    14344\n",
      "dtype: int32\n"
     ]
    }
   ],
   "source": [
    "# Third Series: Random numbers from 10,000 to 30,000\n",
    "series3 = pd.Series(np.random.randint(10000, 30001, size=100))\n",
    "print(\"\\nStep 2c: Series 3:\\n\", series3.head())\n"
   ]
  },
  {
   "cell_type": "code",
   "execution_count": 55,
   "id": "3514fdc0-0b01-4618-a728-6d237555072c",
   "metadata": {},
   "outputs": [
    {
     "name": "stdout",
     "output_type": "stream",
     "text": [
      "\n",
      "Step 3: DataFrame created:\n",
      "    bedrs  bathrs  price_sqr_meter\n",
      "0      1       3            28831\n",
      "1      3       1            15846\n",
      "2      1       1            17377\n",
      "3      3       2            10338\n",
      "4      4       2            14344\n"
     ]
    }
   ],
   "source": [
    "# Step 3: Create a DataFrame by joining the Series by column\n",
    "df = pd.DataFrame({\n",
    "    'bedrs': series1,\n",
    "    'bathrs': series2,\n",
    "    'price_sqr_meter': series3\n",
    "})\n",
    "print(\"\\nStep 3: DataFrame created:\\n\", df.head())\n"
   ]
  },
  {
   "cell_type": "code",
   "execution_count": 56,
   "id": "9cfa4b51-0aa5-4434-b19b-36cfb09ccebc",
   "metadata": {},
   "outputs": [
    {
     "name": "stdout",
     "output_type": "stream",
     "text": [
      "\n",
      "Step 4: Columns renamed:\n",
      "    bedrs  bathrs  price_sqr_meter\n",
      "0      1       3            28831\n",
      "1      3       1            15846\n",
      "2      1       1            17377\n",
      "3      3       2            10338\n",
      "4      4       2            14344\n"
     ]
    }
   ],
   "source": [
    "# Step 4: Change the name of the columns to bedrs, bathrs, price_sqr_meter\n",
    "df.columns = ['bedrs', 'bathrs', 'price_sqr_meter']\n",
    "print(\"\\nStep 4: Columns renamed:\\n\", df.head())\n"
   ]
  },
  {
   "cell_type": "code",
   "execution_count": 57,
   "id": "1d5e04cf-30a5-4dff-a4fd-fe04591e9465",
   "metadata": {},
   "outputs": [
    {
     "name": "stdout",
     "output_type": "stream",
     "text": [
      "\n",
      "Step 5: Big column DataFrame:\n",
      "    bigcolumn\n",
      "0          1\n",
      "1          3\n",
      "2          1\n",
      "3          3\n",
      "4          4\n"
     ]
    }
   ],
   "source": [
    "# Step 5: Create a one-column DataFrame with the values of the 3 Series and assign it to 'bigcolumn'\n",
    "bigcolumn = pd.DataFrame({\n",
    "    'bigcolumn': pd.concat([series1, series2, series3], ignore_index=True)\n",
    "})\n",
    "print(\"\\nStep 5: Big column DataFrame:\\n\", bigcolumn.head())"
   ]
  },
  {
   "cell_type": "code",
   "execution_count": 58,
   "id": "8e1f57ff-947c-4979-a324-a216296285c7",
   "metadata": {},
   "outputs": [
    {
     "name": "stdout",
     "output_type": "stream",
     "text": [
      "\n",
      "Step 6: Check DataFrame length: 300\n"
     ]
    }
   ],
   "source": [
    "# Step 6: Check if the DataFrame is going only until index 99\n",
    "print(\"\\nStep 6: Check DataFrame length:\", len(bigcolumn))"
   ]
  },
  {
   "cell_type": "code",
   "execution_count": 59,
   "id": "ba165dc4-00a7-4f7b-9811-0382fb58ead2",
   "metadata": {},
   "outputs": [
    {
     "name": "stdout",
     "output_type": "stream",
     "text": [
      "\n",
      "Step 7: Reindexed DataFrame:\n",
      "    bigcolumn\n",
      "0          1\n",
      "1          3\n",
      "2          1\n",
      "3          3\n",
      "4          4\n",
      "5          4\n",
      "6          1\n",
      "7          3\n",
      "8          4\n",
      "9          4\n"
     ]
    }
   ],
   "source": [
    "# Step 7: Reindex the DataFrame so it goes from 0 to 299\n",
    "reindexed_df = bigcolumn.reset_index(drop=True)\n",
    "print(\"\\nStep 7: Reindexed DataFrame:\\n\", reindexed_df.head(10))  # Print first 10 rows for verification"
   ]
  },
  {
   "cell_type": "markdown",
   "id": "b80ddf9e-dd3d-42c5-9f0c-ab4e64602aa8",
   "metadata": {},
   "source": [
    "Question 4\n",
    "Wind Statistics \n",
    "The data have been modified to contain some missing values, identified by NaN.\n",
    "Using pandas should make this exercise easier, in particular for the bonus question.\n",
    "You should be able to perform all of these operations without using a for loop or \n",
    "other looping construct.\n",
    "The data in 'wind.data' has the following format:\n",
    "Yr Mo Dy RPT VAL ROS KIL SHA BIR DUB CLA MUL CLO BEL \n",
    "MAL\n",
    "61 1 1 15.04 14.96 13.17 9.29 NaN 9.87 13.67 10.25 10.83 12.58 18.50 15.04\n",
    "61 1 2 14.71 NaN 10.83 6.50 12.62 7.67 11.50 10.04 9.79 9.67 17.54 13.83\n",
    "61 1 3 18.50 16.88 12.33 10.13 11.17 6.17 11.25 NaN 8.50 7.67 12.75 12.71\n",
    "The first three columns are year, month, and day. The remaining 12 columns are \n",
    "average windspeeds in knots at 12 locations in Ireland on that day.\n",
    "Step 1. Import the necessary libraries\n",
    "Step 2. Import the dataset from the attached file wind.txt\n",
    "Step 3. Assign it to a variable called data and replace the first 3 columns by a proper \n",
    "datetime index.\n",
    "Step 4. Year 2061? Do we really have data from this year? Create a function to fix it \n",
    "and apply it.\n",
    "Step 5. Set the right dates as the index. Pay attention at the data type, it should be \n",
    "datetime64[ns].\n",
    "Step 6. Compute how many values are missing for each location over the entire \n",
    "record.They should be ignored in all calculations below.\n",
    "Step 7. Compute how many non-missing values there are in total.\n",
    "Step 8. Calculate the mean windspeeds of the windspeeds over all the locations and \n",
    "all the times.\n",
    "A single number for the entire dataset.\n",
    "Step 9. Create a DataFrame called loc_stats and calculate the min, max and mean \n",
    "windspeeds and standard deviations of the windspeeds at each location over all the \n",
    "days\n",
    "A different set of numbers for each location.\n",
    "Step 10. Create a DataFrame called day_stats and calculate the min, max and mean \n",
    "windspeed and standard deviations of the windspeeds across all the locations at each \n",
    "day.\n",
    "A different set of numbers for each day.\n",
    "Step 11. Find the average windspeed in January for each location.\n",
    "Treat January 1961 and January 1962 both as January.\n",
    "Step 12. Downsample the record to a yearly frequency for each location.\n",
    "Step 13. Downsample the record to a monthly frequency for each location.\n",
    "Step 14. Downsample the record to a weekly frequency for each location.\n",
    "Step 15. Calculate the min, max and mean windspeeds and standard deviations of the \n",
    "windspeeds across all locations for each week (assume that the first week starts on \n",
    "January 2 1961) for the first 52 weeks.\n",
    "\n"
   ]
  },
  {
   "cell_type": "code",
   "execution_count": 151,
   "id": "9838eac9-4c2f-4578-a615-c0d26d2d6a59",
   "metadata": {},
   "outputs": [],
   "source": [
    "import pandas as pd\n",
    "import numpy as np"
   ]
  },
  {
   "cell_type": "code",
   "execution_count": 165,
   "id": "621f2608-075d-4f3a-88b1-971a542b5e15",
   "metadata": {},
   "outputs": [
    {
     "name": "stdout",
     "output_type": "stream",
     "text": [
      "Initial Data Preview:\n",
      "   Yr  Mo  Dy    RPT    VAL    ROS    KIL    SHA   BIR    DUB    CLA    MUL  \\\n",
      "0  Yr  Mo  Dy    RPT    VAL    ROS    KIL    SHA   BIR    DUB    CLA    MUL   \n",
      "1  61   1   1  15.04  14.96  13.17   9.29    NaN  9.87  13.67  10.25  10.83   \n",
      "2  61   1   2  14.71    NaN  10.83   6.50  12.62  7.67  11.50  10.04   9.79   \n",
      "3  61   1   3  18.50  16.88  12.33  10.13  11.17  6.17  11.25    NaN   8.50   \n",
      "4  61   1   4  10.58   6.63  11.75   4.58   4.54  2.88   8.63   1.79   5.83   \n",
      "\n",
      "     CLO    BEL    MAL  \n",
      "0    CLO    BEL    MAL  \n",
      "1  12.58  18.50  15.04  \n",
      "2   9.67  17.54  13.83  \n",
      "3   7.67  12.75  12.71  \n",
      "4   5.88   5.46  10.88  \n",
      "\n",
      "Date Column Creation:\n",
      "0   NaT\n",
      "1   NaT\n",
      "2   NaT\n",
      "3   NaT\n",
      "4   NaT\n",
      "Name: Date, dtype: datetime64[ns]\n",
      "\n",
      "Step 3 - Data with Date Index:\n",
      "        RPT    VAL    ROS    KIL    SHA   BIR    DUB    CLA    MUL    CLO  \\\n",
      "Date                                                                        \n",
      "NaT     RPT    VAL    ROS    KIL    SHA   BIR    DUB    CLA    MUL    CLO   \n",
      "NaT   15.04  14.96  13.17   9.29    NaN  9.87  13.67  10.25  10.83  12.58   \n",
      "NaT   14.71    NaN  10.83   6.50  12.62  7.67  11.50  10.04   9.79   9.67   \n",
      "NaT   18.50  16.88  12.33  10.13  11.17  6.17  11.25    NaN   8.50   7.67   \n",
      "NaT   10.58   6.63  11.75   4.58   4.54  2.88   8.63   1.79   5.83   5.88   \n",
      "\n",
      "        BEL    MAL  \n",
      "Date                \n",
      "NaT     BEL    MAL  \n",
      "NaT   18.50  15.04  \n",
      "NaT   17.54  13.83  \n",
      "NaT   12.75  12.71  \n",
      "NaT    5.46  10.88  \n"
     ]
    }
   ],
   "source": [
    "# Step 2: Import the dataset from the attached file wind.txt\n",
    "file_path = \"C:\\\\Users\\\\kngok\\\\Downloads\\\\wind.txt\"\n",
    "\n",
    "\n",
    "data = pd.read_csv(file_path, sep='\\s+', header=None)\n",
    "\n",
    "\n",
    "data.columns = ['Yr', 'Mo', 'Dy', 'RPT', 'VAL', 'ROS', 'KIL', 'SHA', 'BIR', 'DUB', 'CLA', 'MUL', 'CLO', 'BEL', 'MAL']\n",
    "\n",
    "\n",
    "print(\"Initial Data Preview:\")\n",
    "print(data.head())\n",
    "\n",
    "\n",
    "data[['Yr', 'Mo', 'Dy']] = data[['Yr', 'Mo', 'Dy']].apply(pd.to_numeric, errors='coerce')\n",
    "\n",
    "\n",
    "data['Date'] = pd.to_datetime(data[['Yr', 'Mo', 'Dy']].astype(str).agg('-'.join, axis=1), format='%Y-%m-%d', errors='coerce')\n",
    "\n",
    "\n",
    "print(\"\\nDate Column Creation:\")\n",
    "print(data['Date'].head())\n",
    "\n",
    "\n",
    "data.set_index('Date', inplace=True)\n",
    "data.drop(columns=['Yr', 'Mo', 'Dy'], inplace=True)\n",
    "\n",
    "print(\"\\nStep 3 - Data with Date Index:\")\n",
    "print(data.head())"
   ]
  },
  {
   "cell_type": "code",
   "execution_count": 167,
   "id": "75b0693f-3126-4703-a0c4-3809e4caaf74",
   "metadata": {},
   "outputs": [
    {
     "name": "stdout",
     "output_type": "stream",
     "text": [
      "\n",
      "Step 4 - Data after fixing years:\n",
      "       RPT    VAL    ROS    KIL    SHA   BIR    DUB    CLA    MUL    CLO  \\\n",
      "NaT    RPT    VAL    ROS    KIL    SHA   BIR    DUB    CLA    MUL    CLO   \n",
      "NaT  15.04  14.96  13.17   9.29    NaN  9.87  13.67  10.25  10.83  12.58   \n",
      "NaT  14.71    NaN  10.83   6.50  12.62  7.67  11.50  10.04   9.79   9.67   \n",
      "NaT  18.50  16.88  12.33  10.13  11.17  6.17  11.25    NaN   8.50   7.67   \n",
      "NaT  10.58   6.63  11.75   4.58   4.54  2.88   8.63   1.79   5.83   5.88   \n",
      "\n",
      "       BEL    MAL  \n",
      "NaT    BEL    MAL  \n",
      "NaT  18.50  15.04  \n",
      "NaT  17.54  13.83  \n",
      "NaT  12.75  12.71  \n",
      "NaT   5.46  10.88  \n"
     ]
    }
   ],
   "source": [
    "# Step 4: Year 2061? Do we really have data from this year? Create a function to fix it and apply it\n",
    "def fix_years(df):\n",
    "    df = df.copy()  \n",
    "    df['Year'] = df.index.year\n",
    "    df.loc[df['Year'] == 2061, 'Year'] = 1961\n",
    "    \n",
    "    new_dates = pd.to_datetime(df['Year'].astype(str) + '-' +\n",
    "                               df.index.month.astype(str) + '-' +\n",
    "                               df.index.day.astype(str), format='%Y-%m-%d', errors='coerce')\n",
    "    df.index = new_dates\n",
    "    df.drop(columns=['Year'], inplace=True)\n",
    "    return df\n",
    "\n",
    "data = fix_years(data)\n",
    "\n",
    "print(\"\\nStep 4 - Data after fixing years:\")\n",
    "print(data.head())"
   ]
  },
  {
   "cell_type": "code",
   "execution_count": 76,
   "id": "1add903d-62a8-46fe-9cad-546214122efe",
   "metadata": {},
   "outputs": [],
   "source": [
    "# Step 5: Set the right dates as the index (already set in previous steps)\n"
   ]
  },
  {
   "cell_type": "code",
   "execution_count": 168,
   "id": "32d988ff-bb0f-4e60-b47e-45dcbb505862",
   "metadata": {},
   "outputs": [
    {
     "name": "stdout",
     "output_type": "stream",
     "text": [
      "\n",
      "Step 6 - Missing Values per Location:\n",
      "RPT    6\n",
      "VAL    3\n",
      "ROS    2\n",
      "KIL    5\n",
      "SHA    2\n",
      "BIR    0\n",
      "DUB    3\n",
      "CLA    2\n",
      "MUL    3\n",
      "CLO    1\n",
      "BEL    0\n",
      "MAL    4\n",
      "dtype: int64\n"
     ]
    }
   ],
   "source": [
    "# Step 6: Compute how many values are missing for each location over the entire record\n",
    "missing_values = data.isna().sum()\n",
    "print(\"\\nStep 6 - Missing Values per Location:\")\n",
    "print(missing_values)\n"
   ]
  },
  {
   "cell_type": "code",
   "execution_count": 169,
   "id": "881e4325-1f87-4dae-9b9e-cf2f8d3bb439",
   "metadata": {},
   "outputs": [
    {
     "name": "stdout",
     "output_type": "stream",
     "text": [
      "\n",
      "Step 7 - Total Non-Missing Values:\n",
      "78869\n"
     ]
    }
   ],
   "source": [
    "# Step 7: Compute how many non-missing values there are in total\n",
    "non_missing_values = data.notna().sum().sum()\n",
    "print(\"\\nStep 7 - Total Non-Missing Values:\")\n",
    "print(non_missing_values)"
   ]
  },
  {
   "cell_type": "code",
   "execution_count": 174,
   "id": "feddf00a-5b07-4ab0-b447-397276e6d1dd",
   "metadata": {},
   "outputs": [
    {
     "name": "stdout",
     "output_type": "stream",
     "text": [
      "\n",
      "Numeric Data Preview for Step 8:\n",
      "Empty DataFrame\n",
      "Columns: []\n",
      "Index: [NaT, NaT, NaT, NaT, NaT]\n",
      "\n",
      "Step 8 - Mean Windspeed Over All Locations and Times:\n",
      "nan\n"
     ]
    }
   ],
   "source": [
    "# Step 8: Calculate the mean windspeeds of the windspeeds over all the locations and all the times\n",
    "\n",
    "numeric_data = data.select_dtypes(include='number')\n",
    "\n",
    "\n",
    "print(\"\\nNumeric Data Preview for Step 8:\")\n",
    "print(numeric_data.head())\n",
    "\n",
    "\n",
    "mean_windspeed = numeric_data.stack().mean()\n",
    "print(\"\\nStep 8 - Mean Windspeed Over All Locations and Times:\")\n",
    "print(mean_windspeed)"
   ]
  },
  {
   "cell_type": "code",
   "execution_count": 175,
   "id": "9581e04a-1e68-43e9-9b4d-097132da7265",
   "metadata": {},
   "outputs": [
    {
     "name": "stdout",
     "output_type": "stream",
     "text": [
      "\n",
      "Step 9 - Numeric Data is Empty\n"
     ]
    }
   ],
   "source": [
    "# Step 9: Create a DataFrame called loc_stats and calculate the min, max and mean windspeeds and standard deviations of the windspeeds at each location over all the days\n",
    "if not numeric_data.empty:\n",
    "    loc_stats = numeric_data.describe().T\n",
    "    print(\"\\nStep 9 - Location Stats:\")\n",
    "    print(loc_stats[['min', 'max', 'mean', 'std']])\n",
    "else:\n",
    "    print(\"\\nStep 9 - Numeric Data is Empty\")"
   ]
  },
  {
   "cell_type": "code",
   "execution_count": 147,
   "id": "a4e056e4-1d10-4850-98cd-da5a1c4bc700",
   "metadata": {},
   "outputs": [
    {
     "name": "stdout",
     "output_type": "stream",
     "text": [
      "\n",
      "Daily statistics:\n",
      "             min  max  mean  std\n",
      "Date                           \n",
      "1900-01-01  NaN  NaN   NaN  NaN\n"
     ]
    }
   ],
   "source": [
    "# Step 10: Create a DataFrame called day_stats and calculate the min, max and mean windspeed and standard deviations of the windspeeds across all the locations at each day\n",
    "day_stats = numeric_data.agg(['min', 'max', 'mean', 'std'], axis=1)\n",
    "print(\"\\nDaily statistics:\\n\", day_stats.head())"
   ]
  },
  {
   "cell_type": "markdown",
   "id": "fdde2c94-e5f0-41c1-967a-e2463eeaf220",
   "metadata": {},
   "source": [
    "Question 5\n",
    "Step 1. Import the necessary libraries\n",
    "Step 2. Import the dataset from this address.\n",
    "Step 3. Assign it to a variable called chipo.\n",
    "Step 4. See the first 10 entries\n",
    "Step 5. What is the number of observations in the dataset?\n",
    "Step 6. What is the number of columns in the dataset?\n",
    "Step 7. Print the name of all the columns.\n",
    "Step 8. How is the dataset indexed?\n",
    "Step 9. Which was the most-ordered item?\n",
    "Step 10. For the most-ordered item, how many items were ordered?\n",
    "Step 11. What was the most ordered item in the choice_description column?\n",
    "Step 12. How many items were orderd in total?\n",
    "Step 13.\n",
    "• Turn the item price into a float\n",
    "• Check the item price type\n",
    "• Create a lambda function and change the type of item price\n",
    "• Check the item price type\n",
    "Step 14. How much was the revenue for the period in the dataset?\n",
    "Step 15. How many orders were made in the period?\n",
    "Step 16. What is the average revenue amount per order?\n",
    "Step 17. How many different items are sold"
   ]
  },
  {
   "cell_type": "code",
   "execution_count": 90,
   "id": "d231b1dd-e8ee-431a-af14-2379030ea739",
   "metadata": {},
   "outputs": [],
   "source": [
    "import pandas as pd"
   ]
  },
  {
   "cell_type": "code",
   "execution_count": 176,
   "id": "e0d7e098-f280-4f90-8e1a-aa2a1e2be5b4",
   "metadata": {},
   "outputs": [
    {
     "name": "stdout",
     "output_type": "stream",
     "text": [
      "      order_id  quantity                              item_name  \\\n",
      "0            1         1           Chips and Fresh Tomato Salsa   \n",
      "1            1         1                                   Izze   \n",
      "2            1         1                       Nantucket Nectar   \n",
      "3            1         1  Chips and Tomatillo-Green Chili Salsa   \n",
      "4            2         2                           Chicken Bowl   \n",
      "...        ...       ...                                    ...   \n",
      "4617      1833         1                          Steak Burrito   \n",
      "4618      1833         1                          Steak Burrito   \n",
      "4619      1834         1                     Chicken Salad Bowl   \n",
      "4620      1834         1                     Chicken Salad Bowl   \n",
      "4621      1834         1                     Chicken Salad Bowl   \n",
      "\n",
      "                                     choice_description item_price  \n",
      "0                                                   NaN     $2.39   \n",
      "1                                          [Clementine]     $3.39   \n",
      "2                                               [Apple]     $3.39   \n",
      "3                                                   NaN     $2.39   \n",
      "4     [Tomatillo-Red Chili Salsa (Hot), [Black Beans...    $16.98   \n",
      "...                                                 ...        ...  \n",
      "4617  [Fresh Tomato Salsa, [Rice, Black Beans, Sour ...    $11.75   \n",
      "4618  [Fresh Tomato Salsa, [Rice, Sour Cream, Cheese...    $11.75   \n",
      "4619  [Fresh Tomato Salsa, [Fajita Vegetables, Pinto...    $11.25   \n",
      "4620  [Fresh Tomato Salsa, [Fajita Vegetables, Lettu...     $8.75   \n",
      "4621  [Fresh Tomato Salsa, [Fajita Vegetables, Pinto...     $8.75   \n",
      "\n",
      "[4622 rows x 5 columns]\n"
     ]
    }
   ],
   "source": [
    "# Step 2: Import the dataset from the given URL\n",
    "# Step 3: Assign it to a variable called chipo\n",
    "url = 'https://raw.githubusercontent.com/justmarkham/DAT8/master/data/chipotle.tsv'\n",
    "chipo = pd.read_csv(url, sep='\\t')\n",
    "print(chipo)"
   ]
  },
  {
   "cell_type": "code",
   "execution_count": 92,
   "id": "c68d46ab-e4b5-4b74-a513-daf927af5e46",
   "metadata": {},
   "outputs": [
    {
     "name": "stdout",
     "output_type": "stream",
     "text": [
      "First 10 entries:\n",
      "    order_id  quantity                              item_name  \\\n",
      "0         1         1           Chips and Fresh Tomato Salsa   \n",
      "1         1         1                                   Izze   \n",
      "2         1         1                       Nantucket Nectar   \n",
      "3         1         1  Chips and Tomatillo-Green Chili Salsa   \n",
      "4         2         2                           Chicken Bowl   \n",
      "5         3         1                           Chicken Bowl   \n",
      "6         3         1                          Side of Chips   \n",
      "7         4         1                          Steak Burrito   \n",
      "8         4         1                       Steak Soft Tacos   \n",
      "9         5         1                          Steak Burrito   \n",
      "\n",
      "                                  choice_description item_price  \n",
      "0                                                NaN     $2.39   \n",
      "1                                       [Clementine]     $3.39   \n",
      "2                                            [Apple]     $3.39   \n",
      "3                                                NaN     $2.39   \n",
      "4  [Tomatillo-Red Chili Salsa (Hot), [Black Beans...    $16.98   \n",
      "5  [Fresh Tomato Salsa (Mild), [Rice, Cheese, Sou...    $10.98   \n",
      "6                                                NaN     $1.69   \n",
      "7  [Tomatillo Red Chili Salsa, [Fajita Vegetables...    $11.75   \n",
      "8  [Tomatillo Green Chili Salsa, [Pinto Beans, Ch...     $9.25   \n",
      "9  [Fresh Tomato Salsa, [Rice, Black Beans, Pinto...     $9.25   \n"
     ]
    }
   ],
   "source": [
    "# Step 4: See the first 10 entries\n",
    "print(\"First 10 entries:\\n\", chipo.head(10))"
   ]
  },
  {
   "cell_type": "code",
   "execution_count": 94,
   "id": "380c8648-2aca-4eef-821e-7db2d84dee3f",
   "metadata": {},
   "outputs": [
    {
     "name": "stdout",
     "output_type": "stream",
     "text": [
      "\n",
      "Number of observations in the dataset: 4622\n"
     ]
    }
   ],
   "source": [
    "# Step 5: What is the number of observations in the dataset?\n",
    "num_observations = chipo.shape[0]\n",
    "print(\"\\nNumber of observations in the dataset:\", num_observations)"
   ]
  },
  {
   "cell_type": "code",
   "execution_count": 95,
   "id": "947d4837-1240-40b5-891a-2ebf63c2b7fe",
   "metadata": {},
   "outputs": [
    {
     "name": "stdout",
     "output_type": "stream",
     "text": [
      "\n",
      "Number of columns in the dataset: 5\n"
     ]
    }
   ],
   "source": [
    "# Step 6: What is the number of columns in the dataset?\n",
    "num_columns = chipo.shape[1]\n",
    "print(\"\\nNumber of columns in the dataset:\", num_columns)"
   ]
  },
  {
   "cell_type": "code",
   "execution_count": 96,
   "id": "ea96d5bd-bca8-435c-880d-0df58d9ec8ef",
   "metadata": {},
   "outputs": [
    {
     "name": "stdout",
     "output_type": "stream",
     "text": [
      "\n",
      "Column names:\n",
      " ['order_id', 'quantity', 'item_name', 'choice_description', 'item_price']\n"
     ]
    }
   ],
   "source": [
    "# Step 7: Print the name of all the columns\n",
    "print(\"\\nColumn names:\\n\", chipo.columns.tolist())"
   ]
  },
  {
   "cell_type": "code",
   "execution_count": 97,
   "id": "839adcc3-7633-4239-96bb-bb9ceea80100",
   "metadata": {},
   "outputs": [
    {
     "name": "stdout",
     "output_type": "stream",
     "text": [
      "\n",
      "Dataset index:\n",
      " RangeIndex(start=0, stop=4622, step=1)\n"
     ]
    }
   ],
   "source": [
    "# Step 8: How is the dataset indexed?\n",
    "print(\"\\nDataset index:\\n\", chipo.index)"
   ]
  },
  {
   "cell_type": "code",
   "execution_count": 98,
   "id": "f1643cf5-6e55-475b-bce5-67d71525bb09",
   "metadata": {},
   "outputs": [
    {
     "name": "stdout",
     "output_type": "stream",
     "text": [
      "\n",
      "Most-ordered item: Chicken Bowl\n"
     ]
    }
   ],
   "source": [
    "\n",
    "# Step 9: Which was the most-ordered item?\n",
    "most_ordered_item = chipo['item_name'].mode()[0]\n",
    "print(\"\\nMost-ordered item:\", most_ordered_item)"
   ]
  },
  {
   "cell_type": "code",
   "execution_count": 99,
   "id": "a3edd107-7323-4909-9e4f-d1c386caf1c2",
   "metadata": {},
   "outputs": [
    {
     "name": "stdout",
     "output_type": "stream",
     "text": [
      "\n",
      "Number of items ordered for the most-ordered item: 761\n"
     ]
    }
   ],
   "source": [
    "# Step 10: For the most-ordered item, how many items were ordered?\n",
    "most_ordered_item_count = chipo[chipo['item_name'] == most_ordered_item]['quantity'].sum()\n",
    "print(\"\\nNumber of items ordered for the most-ordered item:\", most_ordered_item_count)"
   ]
  },
  {
   "cell_type": "code",
   "execution_count": 100,
   "id": "ae82caf9-2acc-4356-96ff-9b00c59508dc",
   "metadata": {},
   "outputs": [
    {
     "name": "stdout",
     "output_type": "stream",
     "text": [
      "\n",
      "Most ordered item in the choice_description column: [Diet Coke]\n"
     ]
    }
   ],
   "source": [
    "# Step 11: What was the most ordered item in the choice_description column?\n",
    "most_ordered_choice_desc = chipo['choice_description'].mode()[0]\n",
    "print(\"\\nMost ordered item in the choice_description column:\", most_ordered_choice_desc)"
   ]
  },
  {
   "cell_type": "code",
   "execution_count": 101,
   "id": "64291f4a-ab4c-4099-a2cf-ed2c1ae38cbc",
   "metadata": {},
   "outputs": [
    {
     "name": "stdout",
     "output_type": "stream",
     "text": [
      "\n",
      "Total number of items ordered: 4972\n"
     ]
    }
   ],
   "source": [
    "\n",
    "# Step 12: How many items were ordered in total?\n",
    "total_items_ordered = chipo['quantity'].sum()\n",
    "print(\"\\nTotal number of items ordered:\", total_items_ordered)\n"
   ]
  },
  {
   "cell_type": "code",
   "execution_count": 103,
   "id": "bc4d539d-1b0a-472f-9ccc-2420da6aeb3b",
   "metadata": {},
   "outputs": [
    {
     "name": "stdout",
     "output_type": "stream",
     "text": [
      "\n",
      "Type of item_price before lambda function: float64\n",
      "\n",
      "Type of item_price after lambda function: float64\n"
     ]
    }
   ],
   "source": [
    "# Step 13\n",
    "# Turn the item price into a float\n",
    "chipo['item_price'] = chipo['item_price'].replace('[\\$,]', '', regex=True).astype(float)\n",
    "\n",
    "# Check the item price type\n",
    "print(\"\\nType of item_price before lambda function:\", chipo['item_price'].dtype)\n",
    "\n",
    "# Create a lambda function and change the type of item price\n",
    "chipo['item_price'] = chipo['item_price'].apply(lambda x: float(x))\n",
    "\n",
    "# Check the item price type\n",
    "print(\"\\nType of item_price after lambda function:\", chipo['item_price'].dtype)"
   ]
  },
  {
   "cell_type": "code",
   "execution_count": 104,
   "id": "cc62404b-4318-409e-b02e-6476fd427127",
   "metadata": {},
   "outputs": [
    {
     "name": "stdout",
     "output_type": "stream",
     "text": [
      "\n",
      "Total revenue for the period: 39237.02\n"
     ]
    }
   ],
   "source": [
    "# Step 14: How much was the revenue for the period in the dataset?\n",
    "revenue = (chipo['item_price'] * chipo['quantity']).sum()\n",
    "print(\"\\nTotal revenue for the period:\", revenue)"
   ]
  },
  {
   "cell_type": "code",
   "execution_count": 105,
   "id": "2b73224e-a7a8-47bd-b074-36922f699460",
   "metadata": {},
   "outputs": [
    {
     "name": "stdout",
     "output_type": "stream",
     "text": [
      "\n",
      "Number of orders made in the period: 1834\n"
     ]
    }
   ],
   "source": [
    "# Step 15: How many orders were made in the period?\n",
    "num_orders = chipo['order_id'].nunique()\n",
    "print(\"\\nNumber of orders made in the period:\", num_orders)"
   ]
  },
  {
   "cell_type": "code",
   "execution_count": 106,
   "id": "3b5f624e-457d-42ae-b99e-863f480bbdcb",
   "metadata": {},
   "outputs": [
    {
     "name": "stdout",
     "output_type": "stream",
     "text": [
      "\n",
      "Average revenue amount per order: 21.39423118865867\n"
     ]
    }
   ],
   "source": [
    "# Step 16: What is the average revenue amount per order?\n",
    "average_revenue_per_order = revenue / num_orders\n",
    "print(\"\\nAverage revenue amount per order:\", average_revenue_per_order)"
   ]
  },
  {
   "cell_type": "code",
   "execution_count": 107,
   "id": "f1d07229-d634-4891-9ef4-c2848f5044d6",
   "metadata": {},
   "outputs": [
    {
     "name": "stdout",
     "output_type": "stream",
     "text": [
      "\n",
      "Number of different items sold: 50\n"
     ]
    }
   ],
   "source": [
    "# Step 17: How many different items are sold?\n",
    "num_different_items = chipo['item_name'].nunique()\n",
    "print(\"\\nNumber of different items sold:\", num_different_items)\n"
   ]
  },
  {
   "cell_type": "markdown",
   "id": "54ddcd3d-08cb-4089-bfd8-b42cd5ded5a1",
   "metadata": {},
   "source": [
    "Question 6\n",
    "Create a line plot showing the number of marriages and divorces per capita in the \n",
    "U.S. between 1867 and 2014. Label both lines and show the legend.\n",
    "Don't forget to label your axes!"
   ]
  },
  {
   "cell_type": "code",
   "execution_count": 109,
   "id": "105ed7d8-5ba8-46ad-a92e-fc02ebd3eccd",
   "metadata": {},
   "outputs": [
    {
     "name": "stdout",
     "output_type": "stream",
     "text": [
      "First few rows of the dataset:\n",
      "    Year  Marriages  Divorces  Population  Marriages_per_1000  \\\n",
      "0  1867   357000.0   10000.0    36970000                 9.7   \n",
      "1  1868   345000.0   10000.0    37885000                 9.1   \n",
      "2  1869   348000.0   11000.0    38870000                 9.0   \n",
      "3  1870   352000.0   11000.0    39905000                 8.8   \n",
      "4  1871   359000.0   12000.0    41010000                 8.8   \n",
      "\n",
      "   Divorces_per_1000  \n",
      "0                0.3  \n",
      "1                0.3  \n",
      "2                0.3  \n",
      "3                0.3  \n",
      "4                0.3  \n"
     ]
    },
    {
     "data": {
      "image/png": "[encoded data removed]",
      "text/plain": [
       "<Figure size 1200x600 with 1 Axes>"
      ]
     },
     "metadata": {},
     "output_type": "display_data"
    }
   ],
   "source": [
    "import pandas as pd\n",
    "import matplotlib.pyplot as plt\n",
    "\n",
    "\n",
    "file_path = \"C:\\\\Users\\\\kngok\\\\Downloads\\\\us-marriages-divorces-1867-2014.csv\"\n",
    "data = pd.read_csv(file_path)\n",
    "\n",
    "\n",
    "print(\"First few rows of the dataset:\\n\", data.head())\n",
    "\n",
    "\n",
    "plt.figure(figsize=(12, 6))\n",
    "plt.plot(data['Year'], data['Marriages_per_1000'], label='Marriages per Capita', color='blue', marker='o')\n",
    "plt.plot(data['Year'], data['Divorces_per_1000'], label='Divorces per Capita', color='red', marker='o')\n",
    "\n",
    "\n",
    "plt.xlabel('Year')\n",
    "plt.ylabel('Rate per Capita')\n",
    "plt.title('Number of Marriages and Divorces per Capita in the U.S. (1867-2014)')\n",
    "plt.legend()\n",
    "plt.grid(True)\n",
    "\n",
    "\n",
    "plt.show()\n"
   ]
  },
  {
   "cell_type": "markdown",
   "id": "383e3285-e6aa-4a23-aa33-f90447fd5371",
   "metadata": {},
   "source": [
    "Question 7\n",
    "Create a vertical bar chart comparing the number of marriages and divorces per \n",
    "capita in the U.S. between 1900, 1950, and 2000.\n",
    "Don't forget to label your axes"
   ]
  },
  {
   "cell_type": "code",
   "execution_count": 110,
   "id": "7af69c20-5b4c-4ac2-ae0a-fd24aa53f09d",
   "metadata": {},
   "outputs": [
    {
     "data": {
      "image/png": "[encoded data removed]",
      "text/plain": [
       "<Figure size 1000x600 with 1 Axes>"
      ]
     },
     "metadata": {},
     "output_type": "display_data"
    }
   ],
   "source": [
    "import pandas as pd\n",
    "import matplotlib.pyplot as plt\n",
    "\n",
    "\n",
    "file_path = \"C:\\\\Users\\\\kngok\\\\Downloads\\\\us-marriages-divorces-1867-2014.csv\"\n",
    "data = pd.read_csv(file_path)\n",
    "\n",
    "\n",
    "years_to_compare = [1900, 1950, 2000]\n",
    "data_filtered = data[data['Year'].isin(years_to_compare)]\n",
    "\n",
    "\n",
    "marriages_divorces = data_filtered[['Year', 'Marriages_per_1000', 'Divorces_per_1000']]\n",
    "marriages_divorces.set_index('Year', inplace=True)\n",
    "\n",
    "\n",
    "marriages_divorces.plot(kind='bar', figsize=(10, 6))\n",
    "\n",
    "\n",
    "plt.xlabel('Year')\n",
    "plt.ylabel('Rate per Capita')\n",
    "plt.title('Marriages and Divorces per Capita in the U.S. (1900, 1950, 2000)')\n",
    "plt.xticks(rotation=0)  # Rotate x-axis labels to horizontal for better readability\n",
    "plt.legend(title='Rate Type')\n",
    "\n",
    "\n",
    "plt.show()\n"
   ]
  },
  {
   "cell_type": "markdown",
   "id": "684b1712-8d09-49a2-adb3-ede3c8a76395",
   "metadata": {},
   "source": [
    "Question 8\n",
    "Create a horizontal bar chart that compares the deadliest actors in Hollywood. Sort \n",
    "the actors by their kill count and label each bar with the corresponding actor's name.\n",
    "Don't forget to label your axes!\n"
   ]
  },
  {
   "cell_type": "code",
   "execution_count": 116,
   "id": "147ceaaa-7851-4302-995c-dd2ccf09fbca",
   "metadata": {},
   "outputs": [
    {
     "data": {
      "image/png": "[encoded data removed]",
      "text/plain": [
       "<Figure size 1200x800 with 1 Axes>"
      ]
     },
     "metadata": {},
     "output_type": "display_data"
    },
    {
     "name": "stdout",
     "output_type": "stream",
     "text": [
      "                   Actor  Count\n",
      "0  Arnold Schwarzenegger    369\n",
      "1           Chow Yun-Fat    295\n",
      "7     Sylvester Stallone    267\n",
      "4         Dolph Lundgren    239\n",
      "8    Tomisaburo Wakayama    226\n",
      "2         Clint Eastwood    207\n",
      "6           Nicolas Cage    204\n",
      "5                 Jet Li    201\n",
      "3             Clive Owen    194\n",
      "9          Wesley Snipes    193\n"
     ]
    }
   ],
   "source": [
    "import pandas as pd\n",
    "import matplotlib.pyplot as plt\n",
    "\n",
    "\n",
    "file_path = r\"C:\\Users\\kngok\\Downloads\\actor_kill_counts.csv\"\n",
    "df = pd.read_csv(file_path)\n",
    "\n",
    "\n",
    "df_sorted = df.sort_values('Count', ascending=False)\n",
    "\n",
    "\n",
    "plt.figure(figsize=(12, 8))\n",
    "bars = plt.barh(df_sorted['Actor'], df_sorted['Count'])\n",
    "\n",
    "\n",
    "plt.xlabel('Kill Count')\n",
    "plt.ylabel('Actor')\n",
    "plt.title('Deadliest Actors in Hollywood')\n",
    "\n",
    "\n",
    "for bar in bars:\n",
    "    width = bar.get_width()\n",
    "    plt.text(width, bar.get_y() + bar.get_height()/2, f'{width}', \n",
    "             ha='left', va='center')\n",
    "\n",
    "\n",
    "plt.tight_layout()\n",
    "\n",
    "\n",
    "plt.show()\n",
    "\n",
    "\n",
    "print(df_sorted)"
   ]
  },
  {
   "cell_type": "markdown",
   "id": "9b0464bf-a1f0-4249-aab5-8357e45f8013",
   "metadata": {},
   "source": [
    "Question 9\n",
    "Create a pie chart showing the fraction of all Roman Emperors that were \n",
    "assassinated.\n",
    "Make sure that the pie chart is an even circle, labels the categories, and shows the \n",
    "percentage breakdown of the categories."
   ]
  },
  {
   "cell_type": "code",
   "execution_count": 117,
   "id": "81501d86-f18d-4c29-9818-7e22c334f354",
   "metadata": {},
   "outputs": [
    {
     "data": {
      "image/png": "[encoded data removed]",
      "text/plain": [
       "<Figure size 1000x800 with 1 Axes>"
      ]
     },
     "metadata": {},
     "output_type": "display_data"
    },
    {
     "name": "stdout",
     "output_type": "stream",
     "text": [
      "Total number of emperors: 68\n",
      "Number of assassinated emperors: 0\n",
      "Number of not assassinated emperors: 68\n",
      "Percentage of assassinated emperors: 0.0%\n"
     ]
    }
   ],
   "source": [
    "import pandas as pd\n",
    "import matplotlib.pyplot as plt\n",
    "\n",
    "\n",
    "file_path = r\"C:\\Users\\kngok\\Downloads\\roman-emperor-reigns.csv\"\n",
    "df = pd.read_csv(file_path)\n",
    "\n",
    "\n",
    "assassinated = df['Cause_of_Death'].str.contains('Assassination', case=False, na=False).sum()\n",
    "total_emperors = len(df)\n",
    "not_assassinated = total_emperors - assassinated\n",
    "\n",
    "\n",
    "sizes = [assassinated, not_assassinated]\n",
    "labels = ['Assassinated', 'Not Assassinated']\n",
    "colors = ['#ff9999', '#66b3ff']\n",
    "\n",
    "\n",
    "plt.figure(figsize=(10, 8))\n",
    "plt.pie(sizes, labels=labels, colors=colors, autopct='%1.1f%%', startangle=90)\n",
    "\n",
    "\n",
    "plt.axis('equal')  # Equal aspect ratio ensures that pie is drawn as a circle\n",
    "plt.title('Fraction of Roman Emperors Assassinated')\n",
    "\n",
    "\n",
    "plt.show()\n",
    "\n",
    "\n",
    "print(f\"Total number of emperors: {total_emperors}\")\n",
    "print(f\"Number of assassinated emperors: {assassinated}\")\n",
    "print(f\"Number of not assassinated emperors: {not_assassinated}\")\n",
    "print(f\"Percentage of assassinated emperors: {assassinated/total_emperors*100:.1f}%\")"
   ]
  },
  {
   "cell_type": "markdown",
   "id": "e6e63a0a-eb53-4a38-801e-7641a15da1e8",
   "metadata": {},
   "source": [
    "Question 10\n",
    "Create a scatter plot showing the relationship between the total revenue earned by \n",
    "arcades and the number of Computer Science PhDs awarded in the U.S. between \n",
    "2000 and 2009.\n",
    "Don't forget to label your axes!\n",
    "Color each dot according to its year"
   ]
  },
  {
   "cell_type": "code",
   "execution_count": 123,
   "id": "7ee7e474-d6a1-49fd-bbf0-0deb47a1b478",
   "metadata": {},
   "outputs": [
    {
     "name": "stdout",
     "output_type": "stream",
     "text": [
      "Column names:\n",
      "Index(['Year', 'Total Arcade Revenue (billions)',\n",
      "       'Computer Science Doctorates Awarded (US)'],\n",
      "      dtype='object')\n",
      "\n",
      "First few rows of the DataFrame:\n",
      "   Year  Total Arcade Revenue (billions)  \\\n",
      "0  2000                            1.196   \n",
      "1  2001                            1.176   \n",
      "2  2002                            1.269   \n",
      "3  2003                            1.240   \n",
      "4  2004                            1.307   \n",
      "\n",
      "   Computer Science Doctorates Awarded (US)  \n",
      "0                                       861  \n",
      "1                                       830  \n",
      "2                                       809  \n",
      "3                                       867  \n",
      "4                                       948  \n"
     ]
    },
    {
     "data": {
      "image/png": "[encoded data removed]",
      "text/plain": [
       "<Figure size 1200x800 with 2 Axes>"
      ]
     },
     "metadata": {},
     "output_type": "display_data"
    },
    {
     "name": "stdout",
     "output_type": "stream",
     "text": [
      "\n",
      "Full DataFrame:\n",
      "   Year  Total Arcade Revenue (billions)  \\\n",
      "0  2000                            1.196   \n",
      "1  2001                            1.176   \n",
      "2  2002                            1.269   \n",
      "3  2003                            1.240   \n",
      "4  2004                            1.307   \n",
      "5  2005                            1.435   \n",
      "6  2006                            1.601   \n",
      "7  2007                            1.654   \n",
      "8  2008                            1.803   \n",
      "9  2009                            1.734   \n",
      "\n",
      "   Computer Science Doctorates Awarded (US)  \n",
      "0                                       861  \n",
      "1                                       830  \n",
      "2                                       809  \n",
      "3                                       867  \n",
      "4                                       948  \n",
      "5                                      1129  \n",
      "6                                      1453  \n",
      "7                                      1656  \n",
      "8                                      1787  \n",
      "9                                      1611  \n"
     ]
    }
   ],
   "source": [
    "import pandas as pd\n",
    "import matplotlib.pyplot as plt\n",
    "\n",
    "\n",
    "file_path = r\"C:\\Users\\kngok\\Downloads\\arcade-revenue-vs-cs-doctorates.csv\"\n",
    "df = pd.read_csv(file_path)\n",
    "\n",
    "\n",
    "print(\"Column names:\")\n",
    "print(df.columns)\n",
    "\n",
    "\n",
    "print(\"\\nFirst few rows of the DataFrame:\")\n",
    "print(df.head())\n",
    "\n",
    "\n",
    "columns = df.columns.tolist()\n",
    "x_column = columns[1]  \n",
    "y_column = columns[2]  \n",
    "\n",
    "plt.figure(figsize=(12, 8))\n",
    "\n",
    "\n",
    "scatter = plt.scatter(df[x_column], \n",
    "                      df[y_column],\n",
    "                      c=df['Year'], \n",
    "                      cmap='viridis',\n",
    "                      s=100)  \n",
    "\n",
    "\n",
    "plt.xlabel(x_column)\n",
    "plt.ylabel(y_column)\n",
    "plt.title(f'{x_column} vs {y_column} (2000-2009)')\n",
    "\n",
    "\n",
    "cbar = plt.colorbar(scatter)\n",
    "cbar.set_label('Year')\n",
    "\n",
    "\n",
    "for i, txt in enumerate(df['Year']):\n",
    "    plt.annotate(txt, (df[x_column].iloc[i], df[y_column].iloc[i]),\n",
    "                 xytext=(5, 5), textcoords='offset points')\n",
    "\n",
    "\n",
    "plt.tight_layout()\n",
    "plt.show()\n",
    "\n",
    "\n",
    "print(\"\\nFull DataFrame:\")\n",
    "print(df)"
   ]
  },
  {
   "cell_type": "code",
   "execution_count": null,
   "id": "1f7c60dd-b759-4a47-b3d9-32481a5a0df0",
   "metadata": {},
   "outputs": [],
   "source": []
  },
  {
   "cell_type": "code",
   "execution_count": null,
   "id": "659b102b-38fb-4caa-a1ef-3f9635be4ae3",
   "metadata": {},
   "outputs": [],
   "source": []
  }
 ],
 "metadata": {
  "kernelspec": {
   "display_name": "Python 3 (ipykernel)",
   "language": "python",
   "name": "python3"
  },
  "language_info": {
   "codemirror_mode": {
    "name": "ipython",
    "version": 3
   },
   "file_extension": ".py",
   "mimetype": "text/x-python",
   "name": "python",
   "nbconvert_exporter": "python",
   "pygments_lexer": "ipython3",
   "version": "3.11.7"
  }
 },
 "nbformat": 4,
 "nbformat_minor": 5
}
